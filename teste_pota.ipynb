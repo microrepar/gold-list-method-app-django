{
 "cells": [
  {
   "cell_type": "code",
   "execution_count": 4,
   "metadata": {},
   "outputs": [
    {
     "name": "stdout",
     "output_type": "stream",
     "text": [
      "A porta 5431 não está em uso.\n"
     ]
    }
   ],
   "source": [
    "import socket\n",
    "\n",
    "def verifica_porta(porta):\n",
    "    sock = socket.socket(socket.AF_INET, socket.SOCK_STREAM)\n",
    "    sock.settimeout(1)\n",
    "\n",
    "    try:\n",
    "        sock.connect(('localhost', porta))\n",
    "        print(f'A porta {porta} está em uso.')\n",
    "    except socket.error:\n",
    "        print(f'A porta {porta} não está em uso.')\n",
    "\n",
    "    sock.close()\n",
    "\n",
    "# Substitua 8080 pelo número da porta que você deseja verificar\n",
    "verifica_porta(5431)"
   ]
  },
  {
   "cell_type": "code",
   "execution_count": 5,
   "metadata": {},
   "outputs": [],
   "source": [
    "import psutil\n",
    "\n",
    "def aplicacao_na_porta(porta):\n",
    "    for processo in psutil.process_iter(['pid', 'name', 'connections']):\n",
    "        try:\n",
    "            for conn in processo.info['connections']:\n",
    "                if conn.laddr.port == porta:\n",
    "                    print(f'A porta {porta} está sendo utilizada pelo processo {processo.info[\"name\"]} (PID {processo.info[\"pid\"]}).')\n",
    "        except (psutil.NoSuchProcess, psutil.AccessDenied, psutil.ZombieProcess):\n",
    "            pass\n",
    "\n",
    "# Substitua 8080 pelo número da porta que você deseja verificar\n",
    "aplicacao_na_porta(5431)"
   ]
  },
  {
   "cell_type": "code",
   "execution_count": null,
   "metadata": {},
   "outputs": [],
   "source": []
  }
 ],
 "metadata": {
  "kernelspec": {
   "display_name": "base",
   "language": "python",
   "name": "python3"
  },
  "language_info": {
   "codemirror_mode": {
    "name": "ipython",
    "version": 3
   },
   "file_extension": ".py",
   "mimetype": "text/x-python",
   "name": "python",
   "nbconvert_exporter": "python",
   "pygments_lexer": "ipython3",
   "version": "3.10.9"
  }
 },
 "nbformat": 4,
 "nbformat_minor": 2
}
